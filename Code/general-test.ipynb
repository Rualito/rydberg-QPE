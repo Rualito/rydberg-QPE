{
 "cells": [
  {
   "cell_type": "code",
   "execution_count": 1,
   "metadata": {},
   "outputs": [],
   "source": [
    "import arc\n",
    "from generalSimulation import GeneralSimulation\n",
    "\n",
    "from generalDevice import GeneralDevice\n",
    "from generalChannel import GeneralChannel, default_local_channel_params, default_global_channel_params\n",
    "\n",
    "import numpy as np\n",
    "\n",
    "atom = arc.Rubidium()\n",
    "\n",
    "\n",
    "# n, l, j, mj\n",
    "ryd1 = (60,0,0.5,0.5)\n",
    "ryd2 = (60,1,1.5,-0.5)\n",
    "\n",
    "labels = 'r1','r2'\n",
    "state_dict = {lb: r for lb, r in zip(labels, [ryd1, ryd2])}\n",
    "# Need to verify if transitions are valid?\n",
    "\n",
    "\n",
    "channel_gh = GeneralChannel(\n",
    "    **default_local_channel_params,\n",
    "    addressing='Local',\n",
    "    state1_lbl='g',\n",
    "    state2_lbl='h', \n",
    ")\n",
    "\n",
    "channel_g1 = GeneralChannel(\n",
    "    **default_local_channel_params,\n",
    "    addressing='Local',\n",
    "    state1_lbl='g',\n",
    "    state2_lbl=labels[0]\n",
    ")\n",
    "\n",
    "channel_g2 = GeneralChannel(\n",
    "    **default_local_channel_params,\n",
    "    addressing='Local',\n",
    "    state1_lbl='g',\n",
    "    state2_lbl=labels[1]\n",
    ")\n",
    "\n",
    "channel_12 = GeneralChannel(\n",
    "    **default_local_channel_params,\n",
    "    addressing='Local',\n",
    "    state1_lbl=labels[0],\n",
    "    state2_lbl=labels[1]\n",
    ")\n",
    "\n",
    "device = GeneralDevice(\n",
    "    name='ChadoqMulti', \n",
    "    dimensions=2, \n",
    "    rydberg_states=(ryd1, ryd2),\n",
    "    state_labels=labels, \n",
    "    channel_objects=(\n",
    "        channel_gh,\n",
    "        channel_g1,\n",
    "        channel_g2,\n",
    "        channel_12\n",
    "    ),\n",
    "    channel_ids=('local_gh', 'local_g1', 'local_g2', 'local_l2')\n",
    ")"
   ]
  },
  {
   "cell_type": "code",
   "execution_count": 2,
   "metadata": {},
   "outputs": [],
   "source": [
    "import matplotlib.pyplot as plt\n",
    "from pulser_simulation import Simulation\n",
    "from pulser.register import Register\n",
    "\n",
    "from generalSequence import GeneralSequence\n",
    "from generalSimulation import Simulation\n",
    "\n",
    "from pulser import Pulse\n",
    "from pulser.waveforms import RampWaveform, BlackmanWaveform\n",
    "\n",
    "\n",
    "# distances = np.linspace(6.5, 14, 7)\n",
    "\n",
    "# r = [1, 0]  # |r>\n",
    "# rr = np.kron(r, r)  # |rr>\n",
    "# occup = [np.outer(rr, np.conj(rr))]  # |rr><rr|\n",
    "\n",
    "duration = 1000  # Typical: ~1 µsec\n",
    "\n",
    "reg = Register.rectangle(1, 2, spacing=7, prefix=\"atom\")\n",
    "\n",
    "pi_pulse = Pulse.ConstantDetuning(BlackmanWaveform(duration, np.pi), 0.0, 0.0)\n",
    "\n",
    "\n",
    "# Pulse Sequence\n",
    "seq = GeneralSequence(reg, device)\n",
    "seq.declare_channel('g1', 'local_g1', \"atom0\")\n",
    "seq.add(pi_pulse, \"g1\")\n",
    "seq.target(\"atom1\", \"g1\")\n",
    "seq.add(pi_pulse, \"g1\")\n",
    "\n",
    "sim = GeneralSimulation(seq)\n",
    "# it works????\n",
    "# Alright, lets test some protocols\n",
    "# Try some asymmetric blockade\n",
    "\n",
    "\n",
    "# res = sim.run()  # Returns a SimulationResults instance\n",
    "# data.append(\n",
    "#     res.expect(occup)[0]\n",
    "# )  # Get expectation value for the occupation operator\n",
    "# print(\"...Simulation Complete!\")"
   ]
  },
  {
   "cell_type": "code",
   "execution_count": 7,
   "metadata": {},
   "outputs": [
    {
     "data": {
      "text/plain": [
       "array([ 0.        ,  0.        ,  0.        ,  0.        ,  0.        ,\n",
       "        0.        ,  0.        ,  0.        ,  0.        ,  0.        ,\n",
       "       -7.53796818,  0.        ,  0.        ,  0.        ,  0.        ,\n",
       "        4.46562638])"
      ]
     },
     "execution_count": 7,
     "metadata": {},
     "output_type": "execute_result"
    }
   ],
   "source": [
    "ham = sim._hamiltonian(0)\n",
    "\n",
    "ham.diag()"
   ]
  },
  {
   "cell_type": "code",
   "execution_count": 9,
   "metadata": {},
   "outputs": [
    {
     "data": {
      "text/plain": [
       "4"
      ]
     },
     "execution_count": 9,
     "metadata": {},
     "output_type": "execute_result"
    }
   ],
   "source": [
    "sim.dim"
   ]
  },
  {
   "cell_type": "code",
   "execution_count": null,
   "metadata": {},
   "outputs": [],
   "source": []
  }
 ],
 "metadata": {
  "interpreter": {
   "hash": "2efabb0d3b9c4a2e4514ed32082b2ac32517412a411137a95be73caa1a3c74d1"
  },
  "kernelspec": {
   "display_name": "Python 3.10.9 64-bit ('EuRyQa-E25LYCIN': pipenv)",
   "name": "python3"
  },
  "language_info": {
   "codemirror_mode": {
    "name": "ipython",
    "version": 3
   },
   "file_extension": ".py",
   "mimetype": "text/x-python",
   "name": "python",
   "nbconvert_exporter": "python",
   "pygments_lexer": "ipython3",
   "version": "3.10.9"
  },
  "orig_nbformat": 4
 },
 "nbformat": 4,
 "nbformat_minor": 2
}
