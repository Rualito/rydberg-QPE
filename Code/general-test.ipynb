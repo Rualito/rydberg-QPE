{
 "cells": [
  {
   "cell_type": "code",
   "execution_count": 1,
   "metadata": {},
   "outputs": [],
   "source": [
    "import arc\n",
    "from generalSimulation import GeneralSimulation\n",
    "\n",
    "from generalDevice import GeneralDevice\n",
    "from generalChannel import GeneralChannel, default_local_channel_params, default_global_channel_params\n",
    "\n",
    "import numpy as np\n",
    "\n",
    "atom = arc.Rubidium()\n",
    "\n",
    "# n, l, j, mj\n",
    "ryd1 = (60,0,0.5,0.5)\n",
    "ryd2 = (60,1,1.5,-0.5)\n",
    "\n",
    "labels = 'r1','r2'\n",
    "state_dict = {lb: r for lb, r in zip(labels, [ryd1, ryd2])}\n",
    "\n",
    "channel_gh = GeneralChannel(\n",
    "    **default_local_channel_params,\n",
    "    addressing='Local',\n",
    "    state1_lbl='g',\n",
    "    state2_lbl='h', \n",
    "    state_dict=state_dict\n",
    ")\n",
    "\n",
    "channel_g1 = GeneralChannel(\n",
    "    **default_local_channel_params,\n",
    "    addressing='Local',\n",
    "    state1_lbl='g',\n",
    "    state2_lbl=labels[0], \n",
    "    state_dict=state_dict\n",
    ")\n",
    "\n",
    "channel_g2 = GeneralChannel(\n",
    "    **default_local_channel_params,\n",
    "    addressing='Local',\n",
    "    state1_lbl='g',\n",
    "    state2_lbl=labels[1], \n",
    "    state_dict=state_dict\n",
    ")\n",
    "\n",
    "channel_12 = GeneralChannel(\n",
    "    **default_local_channel_params,\n",
    "    addressing='Local',\n",
    "    state1_lbl=labels[0],\n",
    "    state2_lbl=labels[1],\n",
    "    state_dict=state_dict\n",
    ")\n",
    "\n",
    "device = GeneralDevice(\n",
    "    name='ChadoqMulti', \n",
    "    dimensions=2, \n",
    "    rydberg_states=(ryd1, ryd2),\n",
    "    state_labels=labels, \n",
    "    channel_objects=(\n",
    "        channel_gh,\n",
    "        channel_g1,\n",
    "        channel_g2,\n",
    "        channel_12\n",
    "    )\n",
    ")\n"
   ]
  },
  {
   "cell_type": "code",
   "execution_count": 2,
   "metadata": {},
   "outputs": [],
   "source": []
  },
  {
   "cell_type": "code",
   "execution_count": null,
   "metadata": {},
   "outputs": [],
   "source": []
  }
 ],
 "metadata": {
  "interpreter": {
   "hash": "2efabb0d3b9c4a2e4514ed32082b2ac32517412a411137a95be73caa1a3c74d1"
  },
  "kernelspec": {
   "display_name": "Python 3.10.9 64-bit ('EuRyQa-E25LYCIN': pipenv)",
   "name": "python3"
  },
  "language_info": {
   "codemirror_mode": {
    "name": "ipython",
    "version": 3
   },
   "file_extension": ".py",
   "mimetype": "text/x-python",
   "name": "python",
   "nbconvert_exporter": "python",
   "pygments_lexer": "ipython3",
   "version": "3.10.9"
  },
  "orig_nbformat": 4
 },
 "nbformat": 4,
 "nbformat_minor": 2
}
