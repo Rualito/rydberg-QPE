{
 "cells": [
  {
   "cell_type": "code",
   "execution_count": 1,
   "metadata": {},
   "outputs": [],
   "source": [
    "import sympy as syp\n",
    "import numpy as np\n",
    "import itertools\n",
    "\n",
    "from qutip import ket, bra, tensor\n",
    "\n",
    "from sympy import symbols, Matrix\n",
    "\n",
    "si = Matrix([ [1,0], [0,1] ])\n",
    "sx = Matrix([ [0,1],[1,0] ])\n",
    "sy = Matrix([ [0,-1.0j], [1.0j, 0]])\n",
    "sz = Matrix([ [1,0], [0,-1]])\n",
    "\n",
    "\n",
    "def matrix_decomposition(matrix:np.array, basis:list[np.array]):\n",
    "    # decomposes matrix  into defined basis (may be incomplete)\n",
    "    # returns coeficients of that decomposition and residual such that\n",
    "    # matrix = sum( coeficients*basis ) + residual\n",
    "    matrix_shape = matrix.shape\n",
    "    matrix_flat = matrix.flatten()\n",
    "    \n",
    "    basis_flat = [b.flatten() for b in basis]\n",
    "    coeficients = [ matrix_flat.dot(b)/(b.dot(b)) for b in basis_flat ]\n",
    "    residual = matrix - sum([ci*bi  for ci, bi in zip(coeficients,basis )])\n",
    "\n",
    "    return coeficients, residual\n",
    "\n",
    "def get_Hamiltonian_from_Unitary(unitary):\n",
    "    P, D = unitary.diagonalize()\n",
    "    phases = syp.Array([syp.arg(x) for x in D.diagonal()]) # extract complex phases\n",
    "    epsilons = -phases # eigenvalues of the Hamiltonian\n",
    "\n",
    "    return  P * syp.Matrix.diag(epsilons) * syp.MatPow(P, -1)\n",
    "\n",
    "def spin_tensors(N):\n",
    "    si_list = [si]*N\n",
    "    siN = syp.KroneckerProduct(*si_list)\n",
    "    sx_i = [None]*N \n",
    "    sy_i = [None]*N\n",
    "    sz_i = [None]*N\n",
    "    for i in range(N):\n",
    "        for j in range(N): \n",
    "            st = si_list.copy()\n",
    "            st[j] = sx\n",
    "            sx_i[i] = syp.KroneckerProduct(*st).as_explicit()\n",
    "\n",
    "            st = si_list.copy()\n",
    "            st[j] = sy\n",
    "            sy_i[i] = syp.KroneckerProduct(*st).as_explicit()\n",
    "\n",
    "            st = si_list.copy()\n",
    "            st[j] = sz\n",
    "            sz_i[i] = syp.KroneckerProduct(*st).as_explicit()\n",
    "\n",
    "    return siN.as_explicit(), sx_i, sy_i, sz_i\n",
    "\n"
   ]
  },
  {
   "cell_type": "code",
   "execution_count": 9,
   "metadata": {},
   "outputs": [
    {
     "data": {
      "text/latex": [
       "$\\displaystyle \\left[\\begin{matrix}1.0 \\cosh{\\left(\\left(- a^{2} - b^{2}\\right)^{0.5} \\right)} & \\frac{0.5 \\left(i a + b - \\left(i a + b\\right) e^{2 \\left(- a^{2} - b^{2}\\right)^{0.5}}\\right) e^{- \\left(- a^{2} - b^{2}\\right)^{0.5}}}{\\left(- a^{2} - b^{2}\\right)^{0.5}}\\\\- \\frac{1.0 \\left(- a^{2} - b^{2}\\right)^{0.5} \\sinh{\\left(\\left(- a^{2} - b^{2}\\right)^{0.5} \\right)}}{i a + b} & 1.0 \\cosh{\\left(\\left(- a^{2} - b^{2}\\right)^{0.5} \\right)}\\end{matrix}\\right]$"
      ],
      "text/plain": [
       "Matrix([\n",
       "[                               1.0*cosh((-a**2 - b**2)**0.5), 0.5*(I*a + b - (I*a + b)*exp(2*(-a**2 - b**2)**0.5))*exp(-(-a**2 - b**2)**0.5)/(-a**2 - b**2)**0.5],\n",
       "[-1.0*(-a**2 - b**2)**0.5*sinh((-a**2 - b**2)**0.5)/(I*a + b),                                                                      1.0*cosh((-a**2 - b**2)**0.5)]])"
      ]
     },
     "execution_count": 9,
     "metadata": {},
     "output_type": "execute_result"
    }
   ],
   "source": [
    "from sympy import exp, I\n",
    "th, a, b = symbols('th a b')\n",
    "\n",
    "expr = exp(-I* (a*sx+b*sy))\n",
    "\n",
    "expr.simplify()"
   ]
  },
  {
   "cell_type": "code",
   "execution_count": null,
   "metadata": {},
   "outputs": [],
   "source": [
    "from qiskit import QuantumCircuit\n",
    "\n",
    "qc = QuantumCircuit(5)\n",
    "\n",
    "qc.h(range(4))\n",
    "\n",
    "\n",
    "qc.draw(output='latex')\n",
    "\n",
    "\n"
   ]
  },
  {
   "cell_type": "markdown",
   "metadata": {},
   "source": [
    "## tests"
   ]
  },
  {
   "cell_type": "code",
   "execution_count": 183,
   "metadata": {},
   "outputs": [],
   "source": [
    "a, b, t, r = symbols('a b t r')\n",
    "\n",
    "si, sx_i, sy_i, sz_i = spin_tensors(2)\n",
    "CNOT = Matrix([ [1,0,0,0],[0,1,0,0],[0,0,0,1], [0,0,1,0]])\n",
    "\n",
    "\n",
    "# Base change matrix P,  diagonal matrix D\n",
    "P, D = CNOT.diagonalize()\n",
    "\n",
    "phases = syp.Array([syp.arg(x) for x in D.diagonal()]) # extract complex phases\n",
    "epsilons = -phases # eigenvalues of the Hamiltonian\n",
    "\n",
    "H =  P * syp.Matrix.diag(epsilons) * syp.MatPow(P, -1)"
   ]
  },
  {
   "cell_type": "code",
   "execution_count": null,
   "metadata": {},
   "outputs": [],
   "source": [
    "coupling_list = []\n",
    "basis_raw = []\n",
    "\n",
    "cp_names = {'X':sx_i, 'Y':sy_i, 'Z':sz_i}\n",
    "\n",
    "# generate for every pair of qubits\n",
    "for a,b in itertools.product('IXYZ', repeat=2):\n",
    "    coupling_list.append(f\"{a}{b}\")\n",
    "    s0 = si\n",
    "    s1 = si\n",
    "    if a != 'I':\n",
    "        s0 = cp_names[a][0]\n",
    "    if b != 'I':\n",
    "        s1 = cp_names[b][1]\n",
    "    basis_raw.append(s0*s1)\n",
    "\n",
    "# basis_raw +=  [CNOT]\n",
    "\n",
    "# basis_raw = [ si ] + sx_i + sz_i + [sx_i[0]*sx_i[1]] +[sy_i[0]*sy_i[1]] + [sz_i[0]*sz_i[1]] + [ sz_i[0]*sy_i[1] ] + [ sy_i[0]*sz_i[1] ] + [ sy_i[0]*sx_i[1] ] + [ sx_i[0]*sy_i[1] ] \n",
    "# + sy_i + sz_i \n",
    "# oh no, it requires asymetric couplings ...\n",
    "basis = [np.array(b.tolist()) for b in basis_raw]\n",
    "coef, residual = matrix_decomposition( np.array(H.tolist()), basis )\n",
    "\n",
    "for cn, c in zip(coupling_list, coef):\n",
    "    print(f\"{cn}: {c}\")\n",
    "\n",
    "print(f\"residual: \\n{residual}\")"
   ]
  },
  {
   "cell_type": "code",
   "execution_count": 181,
   "metadata": {},
   "outputs": [
    {
     "data": {
      "text/latex": [
       "$\\displaystyle \\left[\\begin{matrix}0 & 0 & 0 & 0\\\\0 & 0 & 0 & 0\\\\0 & 0 & - \\frac{\\pi}{2} & \\frac{\\pi}{2}\\\\0 & 0 & \\frac{\\pi}{2} & - \\frac{\\pi}{2}\\end{matrix}\\right]$"
      ],
      "text/plain": [
       "Matrix([\n",
       "[0, 0,     0,     0],\n",
       "[0, 0,     0,     0],\n",
       "[0, 0, -pi/2,  pi/2],\n",
       "[0, 0,  pi/2, -pi/2]])"
      ]
     },
     "execution_count": 181,
     "metadata": {},
     "output_type": "execute_result"
    }
   ],
   "source": [
    "H"
   ]
  },
  {
   "cell_type": "code",
   "execution_count": 188,
   "metadata": {},
   "outputs": [
    {
     "data": {
      "text/plain": [
       "([4, 0, 0, 0, 0, 4, 0, 0, 0, 0, 4.00000000000000, 0, 0, 0, 0, 4, 2],\n",
       " array([[-17.0000000000000, 0, 0, 0],\n",
       "        [0, -17.0000000000000, 0, 0],\n",
       "        [0, 0, -15.0000000000000, -2],\n",
       "        [0, 0, -2, -15.0000000000000]], dtype=object))"
      ]
     },
     "execution_count": 188,
     "metadata": {},
     "output_type": "execute_result"
    }
   ],
   "source": [
    "matrix_decomposition(basis[0], basis)"
   ]
  },
  {
   "cell_type": "markdown",
   "metadata": {},
   "source": [
    "##  Testing Rydberg interactions"
   ]
  },
  {
   "cell_type": "code",
   "execution_count": 4,
   "metadata": {},
   "outputs": [
    {
     "data": {
      "text/latex": [
       "Quantum object: dims = [[2], [1]], shape = (2, 1), type = ket $ \\\\ \\left(\\begin{matrix}1.0\\\\0.0\\\\\\end{matrix}\\right)$"
      ],
      "text/plain": [
       "Quantum object: dims = [[2], [1]], shape = (2, 1), type = ket\n",
       "Qobj data =\n",
       "[[1.]\n",
       " [0.]]"
      ]
     },
     "execution_count": 4,
     "metadata": {},
     "output_type": "execute_result"
    }
   ],
   "source": [
    "ket('0')"
   ]
  },
  {
   "cell_type": "code",
   "execution_count": 20,
   "metadata": {},
   "outputs": [],
   "source": [
    "H1ry = lambda a,b: ket(f'{a}')*bra(f'{b}')\n",
    "H2ry = lambda a,b,c,d: ket(f'{a}{b}')*bra(f'{c}{d}')\n",
    "\n",
    "A, B = symbols('A B')\n",
    "\n",
    "CUxy = Matrix([[A, B, 0,0], [B.conjugate(), A, 0,0], [0,0,1,0], [0,0,0,1]])\n",
    "H_CUxy = Matrix([[0,A,0,0],[A,0,0,0],[0,0,0,A],[0,0,A,B]])\n",
    "\n"
   ]
  },
  {
   "cell_type": "code",
   "execution_count": 14,
   "metadata": {},
   "outputs": [
    {
     "data": {
      "text/latex": [
       "$\\displaystyle \\left[\\begin{matrix}- \\frac{\\arg{\\left(A - \\sqrt{B \\overline{B}} \\right)}}{2} - \\frac{\\arg{\\left(A + \\sqrt{B \\overline{B}} \\right)}}{2} & \\frac{B \\arg{\\left(A - \\sqrt{B \\overline{B}} \\right)}}{2 \\sqrt{B \\overline{B}}} - \\frac{B \\arg{\\left(A + \\sqrt{B \\overline{B}} \\right)}}{2 \\sqrt{B \\overline{B}}} & 0 & 0\\\\\\frac{\\sqrt{B \\overline{B}} \\arg{\\left(A - \\sqrt{B \\overline{B}} \\right)}}{2 B} - \\frac{\\sqrt{B \\overline{B}} \\arg{\\left(A + \\sqrt{B \\overline{B}} \\right)}}{2 B} & - \\frac{\\arg{\\left(A - \\sqrt{B \\overline{B}} \\right)}}{2} - \\frac{\\arg{\\left(A + \\sqrt{B \\overline{B}} \\right)}}{2} & 0 & 0\\\\0 & 0 & 0 & 0\\\\0 & 0 & 0 & 0\\end{matrix}\\right]$"
      ],
      "text/plain": [
       "Matrix([\n",
       "[                                                 -arg(A - sqrt(B*conjugate(B)))/2 - arg(A + sqrt(B*conjugate(B)))/2, B*arg(A - sqrt(B*conjugate(B)))/(2*sqrt(B*conjugate(B))) - B*arg(A + sqrt(B*conjugate(B)))/(2*sqrt(B*conjugate(B))), 0, 0],\n",
       "[sqrt(B*conjugate(B))*arg(A - sqrt(B*conjugate(B)))/(2*B) - sqrt(B*conjugate(B))*arg(A + sqrt(B*conjugate(B)))/(2*B),                                                  -arg(A - sqrt(B*conjugate(B)))/2 - arg(A + sqrt(B*conjugate(B)))/2, 0, 0],\n",
       "[                                                                                                                  0,                                                                                                                   0, 0, 0],\n",
       "[                                                                                                                  0,                                                                                                                   0, 0, 0]])"
      ]
     },
     "execution_count": 14,
     "metadata": {},
     "output_type": "execute_result"
    }
   ],
   "source": [
    "get_Hamiltonian_from_Unitary(CUxy)"
   ]
  },
  {
   "cell_type": "code",
   "execution_count": 21,
   "metadata": {},
   "outputs": [
    {
     "data": {
      "text/latex": [
       "$\\displaystyle \\left[\\begin{matrix}0.5 e^{i A} + 0.5 e^{- i A} & - 0.5 e^{i A} + 0.5 e^{- i A} & 0 & 0\\\\- 0.5 e^{i A} + 0.5 e^{- i A} & 0.5 e^{i A} + 0.5 e^{- i A} & 0 & 0\\\\0 & 0 & \\frac{2.0 \\cdot \\left(0.125 i B^{2} + 0.5 i \\left(- A^{2} - 0.25 B^{2}\\right)^{1.0}\\right) e^{- 0.5 i B + 1.0 \\left(- A^{2} - 0.25 B^{2}\\right)^{0.5}}}{\\left(- A^{2} - 0.25 B^{2}\\right)^{0.5} \\left(B + 2.0 i \\left(- A^{2} - 0.25 B^{2}\\right)^{0.5}\\right)} + \\frac{2.0 \\left(- 0.125 i B^{2} - 0.5 i \\left(- A^{2} - 0.25 B^{2}\\right)^{1.0}\\right) e^{- 0.5 i B - 1.0 \\left(- A^{2} - 0.25 B^{2}\\right)^{0.5}}}{\\left(- A^{2} - 0.25 B^{2}\\right)^{0.5} \\left(B - 2.0 i \\left(- A^{2} - 0.25 B^{2}\\right)^{0.5}\\right)} & \\frac{2.0 A \\left(- 0.25 i B^{2} - 1.0 i \\left(- A^{2} - 0.25 B^{2}\\right)^{1.0}\\right) e^{- 0.5 i B + 1.0 \\left(- A^{2} - 0.25 B^{2}\\right)^{0.5}}}{\\left(B + 2.0 i \\left(- A^{2} - 0.25 B^{2}\\right)^{0.5}\\right) \\left(1.0 B \\left(- A^{2} - 0.25 B^{2}\\right)^{0.5} - 2.0 i \\left(- A^{2} - 0.25 B^{2}\\right)^{1.0}\\right)} + \\frac{2.0 A \\left(0.25 i B^{4} + 1.0 B^{3} \\left(- A^{2} - 0.25 B^{2}\\right)^{0.5} + 4.0 B \\left(- A^{2} - 0.25 B^{2}\\right)^{1.5} - 4.0 i \\left(- A^{2} - 0.25 B^{2}\\right)^{2.0}\\right) e^{- 0.5 i B - 1.0 \\left(- A^{2} - 0.25 B^{2}\\right)^{0.5}}}{\\left(B - 2.0 i \\left(- A^{2} - 0.25 B^{2}\\right)^{0.5}\\right) \\left(1.0 B^{3} \\left(- A^{2} - 0.25 B^{2}\\right)^{0.5} - 2.0 i B^{2} \\left(- A^{2} - 0.25 B^{2}\\right)^{1.0} + 4.0 B \\left(- A^{2} - 0.25 B^{2}\\right)^{1.5} - 8.0 i \\left(- A^{2} - 0.25 B^{2}\\right)^{2.0}\\right)}\\\\0 & 0 & \\frac{1.0 \\left(- 0.125 i B^{2} - 0.5 i \\left(- A^{2} - 0.25 B^{2}\\right)^{1.0}\\right) e^{- 0.5 i B - 1.0 \\left(- A^{2} - 0.25 B^{2}\\right)^{0.5}}}{A \\left(- A^{2} - 0.25 B^{2}\\right)^{0.5}} + \\frac{1.0 \\cdot \\left(0.125 i B^{2} + 0.5 i \\left(- A^{2} - 0.25 B^{2}\\right)^{1.0}\\right) e^{- 0.5 i B + 1.0 \\left(- A^{2} - 0.25 B^{2}\\right)^{0.5}}}{A \\left(- A^{2} - 0.25 B^{2}\\right)^{0.5}} & \\frac{1.0 \\left(- 0.25 i B^{2} - 1.0 i \\left(- A^{2} - 0.25 B^{2}\\right)^{1.0}\\right) e^{- 0.5 i B + 1.0 \\left(- A^{2} - 0.25 B^{2}\\right)^{0.5}}}{1.0 B \\left(- A^{2} - 0.25 B^{2}\\right)^{0.5} - 2.0 i \\left(- A^{2} - 0.25 B^{2}\\right)^{1.0}} + \\frac{1.0 \\cdot \\left(0.25 i B^{4} + 1.0 B^{3} \\left(- A^{2} - 0.25 B^{2}\\right)^{0.5} + 4.0 B \\left(- A^{2} - 0.25 B^{2}\\right)^{1.5} - 4.0 i \\left(- A^{2} - 0.25 B^{2}\\right)^{2.0}\\right) e^{- 0.5 i B - 1.0 \\left(- A^{2} - 0.25 B^{2}\\right)^{0.5}}}{1.0 B^{3} \\left(- A^{2} - 0.25 B^{2}\\right)^{0.5} - 2.0 i B^{2} \\left(- A^{2} - 0.25 B^{2}\\right)^{1.0} + 4.0 B \\left(- A^{2} - 0.25 B^{2}\\right)^{1.5} - 8.0 i \\left(- A^{2} - 0.25 B^{2}\\right)^{2.0}}\\end{matrix}\\right]$"
      ],
      "text/plain": [
       "Matrix([\n",
       "[ 0.5*exp(I*A) + 0.5*exp(-I*A), -0.5*exp(I*A) + 0.5*exp(-I*A),                                                                                                                                                                                                                                                                                                                                    0,                                                                                                                                                                                                                                                                                                                                                                                                                                                                                                                                                                       0],\n",
       "[-0.5*exp(I*A) + 0.5*exp(-I*A),  0.5*exp(I*A) + 0.5*exp(-I*A),                                                                                                                                                                                                                                                                                                                                    0,                                                                                                                                                                                                                                                                                                                                                                                                                                                                                                                                                                       0],\n",
       "[                            0,                             0, 2.0*(0.125*I*B**2 + 0.5*I*(-A**2 - 0.25*B**2)**1.0)*exp(-0.5*I*B + 1.0*(-A**2 - 0.25*B**2)**0.5)/((-A**2 - 0.25*B**2)**0.5*(B + 2.0*I*(-A**2 - 0.25*B**2)**0.5)) + 2.0*(-0.125*I*B**2 - 0.5*I*(-A**2 - 0.25*B**2)**1.0)*exp(-0.5*I*B - 1.0*(-A**2 - 0.25*B**2)**0.5)/((-A**2 - 0.25*B**2)**0.5*(B - 2.0*I*(-A**2 - 0.25*B**2)**0.5)), 2.0*A*(-0.25*I*B**2 - 1.0*I*(-A**2 - 0.25*B**2)**1.0)*exp(-0.5*I*B + 1.0*(-A**2 - 0.25*B**2)**0.5)/((B + 2.0*I*(-A**2 - 0.25*B**2)**0.5)*(1.0*B*(-A**2 - 0.25*B**2)**0.5 - 2.0*I*(-A**2 - 0.25*B**2)**1.0)) + 2.0*A*(0.25*I*B**4 + 1.0*B**3*(-A**2 - 0.25*B**2)**0.5 + 4.0*B*(-A**2 - 0.25*B**2)**1.5 - 4.0*I*(-A**2 - 0.25*B**2)**2.0)*exp(-0.5*I*B - 1.0*(-A**2 - 0.25*B**2)**0.5)/((B - 2.0*I*(-A**2 - 0.25*B**2)**0.5)*(1.0*B**3*(-A**2 - 0.25*B**2)**0.5 - 2.0*I*B**2*(-A**2 - 0.25*B**2)**1.0 + 4.0*B*(-A**2 - 0.25*B**2)**1.5 - 8.0*I*(-A**2 - 0.25*B**2)**2.0))],\n",
       "[                            0,                             0,                                                                       1.0*(-0.125*I*B**2 - 0.5*I*(-A**2 - 0.25*B**2)**1.0)*exp(-0.5*I*B - 1.0*(-A**2 - 0.25*B**2)**0.5)/(A*(-A**2 - 0.25*B**2)**0.5) + 1.0*(0.125*I*B**2 + 0.5*I*(-A**2 - 0.25*B**2)**1.0)*exp(-0.5*I*B + 1.0*(-A**2 - 0.25*B**2)**0.5)/(A*(-A**2 - 0.25*B**2)**0.5),                                                                                   1.0*(-0.25*I*B**2 - 1.0*I*(-A**2 - 0.25*B**2)**1.0)*exp(-0.5*I*B + 1.0*(-A**2 - 0.25*B**2)**0.5)/(1.0*B*(-A**2 - 0.25*B**2)**0.5 - 2.0*I*(-A**2 - 0.25*B**2)**1.0) + 1.0*(0.25*I*B**4 + 1.0*B**3*(-A**2 - 0.25*B**2)**0.5 + 4.0*B*(-A**2 - 0.25*B**2)**1.5 - 4.0*I*(-A**2 - 0.25*B**2)**2.0)*exp(-0.5*I*B - 1.0*(-A**2 - 0.25*B**2)**0.5)/(1.0*B**3*(-A**2 - 0.25*B**2)**0.5 - 2.0*I*B**2*(-A**2 - 0.25*B**2)**1.0 + 4.0*B*(-A**2 - 0.25*B**2)**1.5 - 8.0*I*(-A**2 - 0.25*B**2)**2.0)]])"
      ]
     },
     "execution_count": 21,
     "metadata": {},
     "output_type": "execute_result"
    }
   ],
   "source": [
    "(-1.0j*H_CUxy).exp()"
   ]
  },
  {
   "cell_type": "code",
   "execution_count": null,
   "metadata": {},
   "outputs": [],
   "source": []
  },
  {
   "cell_type": "markdown",
   "metadata": {},
   "source": [
    "## Phase Out/In gates\n",
    "\n",
    "\"Phase In\" gate $\\widetilde R_i$\n",
    "\n",
    "<img src=\"CircuitDraw/QFT1-000001.png\" alt=\"drawing\" width=\"300\"/>\n",
    "\n",
    "\"Phase Out\" gate $\\widetilde S_i$\n",
    "\n",
    "<img src=\"CircuitDraw/QFT2-000001.png\" alt=\"drawing\" width=\"300\"/>\n",
    "\n",
    "<!-- ![](CircuitDraw/QFT2-000001.png) -->"
   ]
  },
  {
   "cell_type": "code",
   "execution_count": 57,
   "metadata": {},
   "outputs": [],
   "source": [
    "# \"Phase out\"  gate S_2, 3 qubits\n",
    "from sympy import  Identity, exp, I, KroneckerProduct, pi\n",
    "\n",
    "a, b = symbols('a b')\n",
    "\n",
    "iden = Identity(2**3)\n",
    "Z = Matrix([[1,0],[0,-1]])\n",
    "\n",
    "C0R1 = Matrix(iden.as_explicit())\n",
    "C0R1[7,7] = exp(I*a)\n",
    "C0R1[6,6] = exp(I*a)\n",
    "\n",
    "C0R2 = Matrix(iden.as_explicit())\n",
    "C0R2[7,7] = exp(I*b)\n",
    "C0R2[5,5] = exp(I*b)\n",
    "\n",
    "cr = C0R1*C0R2\n",
    "cr.simplify()"
   ]
  },
  {
   "cell_type": "code",
   "execution_count": 50,
   "metadata": {},
   "outputs": [],
   "source": [
    "Rp = lambda p: Matrix([[1,0],[0,p]])\n",
    "\n",
    "Z0Z2 = KroneckerProduct(Z, Identity(2), Z)\n",
    "Z0Z1 = KroneckerProduct(Z, Z, Identity(2))\n",
    "Z1Z2 = KroneckerProduct(Identity(2), Z, Z)\n",
    "\n",
    "R0 = lambda p: KroneckerProduct(Rp(p), Identity(2), Identity(2))\n",
    "R1 = lambda p: KroneckerProduct(Identity(2), Rp(p), Identity(2))\n",
    "R2 = lambda p: KroneckerProduct(Identity(2), Identity(2),Rp(p))\n",
    "\n",
    "c0, c1, c2 = symbols('c0 c1 c2')\n",
    "d0, d1, d2 = symbols('d0 d1 d2')\n",
    "\n",
    "mat = (c0*Z0Z1 + c1*Z0Z2 + c2*Z1Z2) + R0(d0) + R1(d1) + R2(d2)\n"
   ]
  },
  {
   "cell_type": "code",
   "execution_count": 58,
   "metadata": {},
   "outputs": [
    {
     "data": {
      "text/latex": [
       "$\\displaystyle \\left[\\begin{matrix}\\left(c_{0} + c_{1} + c_{2}\\right) \\bmod 1 & \\left(c_{0} - c_{1} - c_{2} + d_{2}\\right) \\bmod 1 & \\left(- c_{0} + c_{1} - c_{2} + d_{1}\\right) \\bmod 1 & \\left(- c_{0} - c_{1} + c_{2} + d_{1} + d_{2}\\right) \\bmod 1 & \\left(- c_{0} - c_{1} + c_{2} + d_{0}\\right) \\bmod 1 & \\left(- c_{0} + c_{1} - c_{2} + d_{0} + d_{2}\\right) \\bmod 1 & \\left(c_{0} - c_{1} - c_{2} + d_{0} + d_{1}\\right) \\bmod 1 & \\left(c_{0} + c_{1} + c_{2} + d_{0} + d_{1} + d_{2}\\right) \\bmod 1\\end{matrix}\\right]$"
      ],
      "text/plain": [
       "Matrix([[Mod(c0 + c1 + c2, 1), Mod(c0 - c1 - c2 + d2, 1), Mod(-c0 + c1 - c2 + d1, 1), Mod(-c0 - c1 + c2 + d1 + d2, 1), Mod(-c0 - c1 + c2 + d0, 1), Mod(-c0 + c1 - c2 + d0 + d2, 1), Mod(c0 - c1 - c2 + d0 + d1, 1), Mod(c0 + c1 + c2 + d0 + d1 + d2, 1)]])"
      ]
     },
     "execution_count": 58,
     "metadata": {},
     "output_type": "execute_result"
    }
   ],
   "source": [
    "m = mat.as_explicit()\n",
    "\n",
    "m.diagonal()\n",
    "\n"
   ]
  },
  {
   "cell_type": "code",
   "execution_count": 61,
   "metadata": {},
   "outputs": [
    {
     "data": {
      "text/latex": [
       "$\\displaystyle \\left[\\begin{matrix}1 & 1 & 1 & 1 & 1 & e^{i b} & e^{i a} & e^{i \\left(a + b\\right)}\\end{matrix}\\right]$"
      ],
      "text/plain": [
       "Matrix([[1, 1, 1, 1, 1, exp(I*b), exp(I*a), exp(I*(a + b))]])"
      ]
     },
     "execution_count": 61,
     "metadata": {},
     "output_type": "execute_result"
    }
   ],
   "source": [
    "cr.diagonal()"
   ]
  },
  {
   "cell_type": "markdown",
   "metadata": {},
   "source": []
  },
  {
   "cell_type": "markdown",
   "metadata": {},
   "source": [
    "## MultiPhase gate\n",
    "\n",
    "Phase In = Phase Out -> renamed to MultiPhase\n",
    "\n",
    "$V_{ij} \\sim 2^{(i-j)/p}$\n",
    "where $p=3$ if dipole-dipole, or $p=6$ if vdW\n"
   ]
  },
  {
   "cell_type": "markdown",
   "metadata": {},
   "source": [
    "### Lattice geometry approach \n",
    "\n",
    "$|\\vec r_i - \\vec r_j| = R^{j-i}$, with $R = 2^{1/p}$ \n",
    "\n",
    "The approach is valid, in a first approximation, if $R^n < n R$\n"
   ]
  },
  {
   "cell_type": "code",
   "execution_count": 23,
   "metadata": {},
   "outputs": [
    {
     "data": {
      "image/png": "[encoded data removed]",
      "text/plain": [
       "<Figure size 500x300 with 1 Axes>"
      ]
     },
     "metadata": {},
     "output_type": "display_data"
    }
   ],
   "source": [
    "import numpy as np\n",
    "import matplotlib.pyplot as plt\n",
    "\n",
    "from matplotlib.ticker import (MultipleLocator, AutoMinorLocator)\n",
    "\n",
    "\n",
    "nr = np.array([*range(35)])\n",
    "\n",
    "R = lambda p: np.power(2,1/p)\n",
    "f, ax = plt.subplots(figsize=(5,3))\n",
    "\n",
    "plt.title(\"Lattice encoding should be possible while line is above 0\\n plotting $N R - R^N$, $R=2^{1/p}$\")\n",
    "plt.plot(nr, nr*R(3)-np.power(R(3), nr), label='Dipole-Dipole, $p=3$')\n",
    "plt.plot(nr, nr*R(6)-np.power(R(6), nr), label='vdW, $p=6$')\n",
    "\n",
    "ax.xaxis.set_minor_locator(AutoMinorLocator())\n",
    "plt.xlabel(\"N atoms\")\n",
    "plt.xlim((1,35))\n",
    "plt.ylim((0,15))\n",
    "plt.grid(True)\n",
    "# plt.xticks()\n",
    "plt.legend(loc='upper left')\n",
    "\n",
    "plt.savefig(\"./Plots/lattice-encoding-condition.png\", bbox_inches='tight')\n",
    "plt.show()\n",
    "\n"
   ]
  },
  {
   "cell_type": "markdown",
   "metadata": {},
   "source": [
    "Lets figure out the geometry of the atoms\n",
    "\n",
    "$\\vec r_0=0$\n",
    "\n",
    "$\\vec r_1 = R \\vec e_x$\n",
    "\n",
    "$ \\vec r_2 = \\vec r_1 + R (-cos\\ \\theta\\ \\vec e_x + sin\\ \\theta\\ \\vec e_y) $\n",
    "\n",
    "$|\\vec r_0-\\vec r_2| = R^2 \\implies cos \\ \\theta = 1-R^2/2$\n"
   ]
  },
  {
   "cell_type": "code",
   "execution_count": 28,
   "metadata": {},
   "outputs": [
    {
     "name": "stdout",
     "output_type": "stream",
     "text": [
      "D-D (p=3): theta=0.43385789109398604 pi\n",
      "vdW (p=6): theta=0.3793441564891036 pi\n"
     ]
    },
    {
     "data": {
      "text/plain": [
       "78.09442039691749"
      ]
     },
     "execution_count": 28,
     "metadata": {},
     "output_type": "execute_result"
    }
   ],
   "source": [
    "th3 =np.arccos(1-R(3)**2/2)\n",
    "th6 = np.arccos(1-R(6)**2/2)\n",
    "\n",
    "print(f\"D-D (p=3): theta={th3/np.pi} pi\")\n",
    "print(f\"vdW (p=6): theta={th6/np.pi} pi\")\n",
    "\n",
    "th3 * 180/np.pi"
   ]
  },
  {
   "cell_type": "code",
   "execution_count": null,
   "metadata": {},
   "outputs": [],
   "source": []
  },
  {
   "cell_type": "markdown",
   "metadata": {},
   "source": []
  }
 ],
 "metadata": {
  "interpreter": {
   "hash": "2efabb0d3b9c4a2e4514ed32082b2ac32517412a411137a95be73caa1a3c74d1"
  },
  "kernelspec": {
   "display_name": "Python 3.10.9 64-bit ('EuRyQa-E25LYCIN': pipenv)",
   "name": "python3"
  },
  "language_info": {
   "codemirror_mode": {
    "name": "ipython",
    "version": 3
   },
   "file_extension": ".py",
   "mimetype": "text/x-python",
   "name": "python",
   "nbconvert_exporter": "python",
   "pygments_lexer": "ipython3",
   "version": "3.10.9"
  },
  "orig_nbformat": 4
 },
 "nbformat": 4,
 "nbformat_minor": 2
}
